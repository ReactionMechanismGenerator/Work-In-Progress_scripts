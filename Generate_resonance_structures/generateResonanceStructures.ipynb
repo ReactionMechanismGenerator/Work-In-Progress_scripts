{
 "cells": [
  {
   "cell_type": "markdown",
   "metadata": {},
   "source": [
    "## Generate resonance structures"
   ]
  },
  {
   "cell_type": "markdown",
   "metadata": {},
   "source": [
    "##### The following cell loads the required funtion to process the user's input:"
   ]
  },
  {
   "cell_type": "code",
   "execution_count": null,
   "metadata": {
    "collapsed": true
   },
   "outputs": [],
   "source": [
    "def resonate(smiles=None,adjList=None,smilesList=None,dictionary=None,filter_structures=True,keep_isomorphic=False):\n",
    "\n",
    "    import rmgpy.molecule.resonance as resonance\n",
    "    import rmgpy.molecule as molecule\n",
    "    from IPython.display import display\n",
    "    import rmgpy.chemkin as chemkin\n",
    "\n",
    "    if smiles or adjList:\n",
    "        if smiles: mol = molecule.Molecule(SMILES=smiles)\n",
    "        elif adjlist: mol = molecule.Molecule().fromAdjacencyList(adj)\n",
    "        print \"original molecule: {0}\".format(mol.toSMILES())\n",
    "        mol.update()\n",
    "        display(mol)\n",
    "        res = resonance.generate_resonance_structures(mol, keep_isomorphic=keep_isomorphic, filter_structures=filter_structures)\n",
    "        num_structures = sum([1 for struc in res if struc.reactive])\n",
    "        print \"\\nmolecule has {0} reactive resonance structures:\".format(num_structures)\n",
    "        for struc in res:\n",
    "            display(struc)\n",
    "            print struc, '\\n', struc.toAdjacencyList()\n",
    "            if not struc.reactive:\n",
    "                print \"reactive = {0}\".format(struc.reactive)\n",
    "            print '\\n'\n",
    "            \n",
    "    elif smilesList:\n",
    "        for smiles in smilesList:\n",
    "            mol = molecule.Molecule(SMILES=smiles)\n",
    "            print \"\\n\\n**********************\\n\"\n",
    "            res = resonance.generate_resonance_structures(mol, filterStructures=filterStructures)\n",
    "            print \"molecule has {0} resonance structures:\".format(len(res))\n",
    "            for struc in res:\n",
    "                display(struc)\n",
    "                print struc, '\\n', struc.toAdjacencyList()\n",
    "                if showOctet:\n",
    "                    print \"charge span: {0}\".format(sum([abs(atom.charge) for atom in struc.vertices]) / 2)\n",
    "                    octetDeviation(struc)\n",
    "                if not struc.reactive:\n",
    "                    print \"reactive = {0}\".format(struc.reactive)\n",
    "                print '\\n'\n",
    "    elif dictionary:\n",
    "        speciesDict = chemkin.loadSpeciesDictionary(dictionary)\n",
    "        i=0\n",
    "        for spc in speciesDict.iteritems():\n",
    "            print \"\\n\\n**********************\\n\"\n",
    "            print \"species {1} has {0} resonance structures:\".format(len(spc[1].molecule),spc[0])\n",
    "            for struc in spc[1].molecule:\n",
    "                display(struc)\n",
    "                print struc, '\\n', struc.toAdjacencyList()\n",
    "                if showOctet: octetDeviation(struc)\n",
    "                if not struc.reactive:\n",
    "                    print \"reactive = {0}\".format(struc.reactive)\n",
    "                for atom in struc.vertices:\n",
    "                    if atom.radicalElectrons:\n",
    "                        print \"atom.sortingLabel: {0}\".format(atom.sortingLabel)\n",
    "                print '\\n'\n",
    "            i+=1\n",
    "        print i\n",
    "            "
   ]
  },
  {
   "cell_type": "markdown",
   "metadata": {},
   "source": [
    "#### Input either SMILES, AdjList, a list of SMILES, or an RMG species dictionary, and run the appropriate resonate function call:"
   ]
  },
  {
   "cell_type": "code",
   "execution_count": null,
   "metadata": {
    "collapsed": true
   },
   "outputs": [],
   "source": [
    "smiles = '[CH2]C=O'\n",
    "\n",
    "adj = \"\"\"\n",
    "1 S u1 p1 c0 {2,S} {3,D}\n",
    "2 H u0 p0 c0 {1,S}\n",
    "3 O u0 p2 c0 {1,D}\n",
    "\"\"\"\n",
    "\n",
    "smilesList = ['[CH2]C=O','C[CH]C=O']\n",
    "dictionary = 'path/to/dictionary/file/dictionary.txt'\n",
    "\n",
    "filter_structures = True\n",
    "keep_isomorphic = False\n",
    "\n",
    "# For SMILES:\n",
    "resonate(smiles=smiles,filter_structures=filter_structures,keep_isomorphic=keep_isomorphic)\n",
    "\n",
    "# For AdjacencyList:\n",
    "#resonate(adjList=adj,filter_structures=filter_structures,keep_isomorphic=keep_isomorphic)\n",
    "\n",
    "# For a SMILES list:\n",
    "#resonate(smilesList=smilesList,filter_structures=filter_structures,keep_isomorphic=keep_isomorphic)\n",
    "\n",
    "# For a dictionary\n",
    "# (note that keep_isomorphic will be over-written by RMG to True if a dictionary is used)\n",
    "#resonate(dictionary=dictionary,filter_structures=filter_structures,keep_isomorphic=keep_isomorphic)\n"
   ]
  },
  {
   "cell_type": "code",
   "execution_count": null,
   "metadata": {
    "collapsed": true
   },
   "outputs": [],
   "source": []
  }
 ],
 "metadata": {
  "kernelspec": {
   "display_name": "rmg_env",
   "language": "python",
   "name": "rmg_env"
  },
  "language_info": {
   "codemirror_mode": {
    "name": "ipython",
    "version": 2
   },
   "file_extension": ".py",
   "mimetype": "text/x-python",
   "name": "python",
   "nbconvert_exporter": "python",
   "pygments_lexer": "ipython2",
   "version": "2.7.13"
  }
 },
 "nbformat": 4,
 "nbformat_minor": 2
}
